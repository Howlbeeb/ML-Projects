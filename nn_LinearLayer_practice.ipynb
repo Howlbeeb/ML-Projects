{
  "nbformat": 4,
  "nbformat_minor": 0,
  "metadata": {
    "colab": {
      "provenance": [],
      "authorship_tag": "ABX9TyNVV316iilxM2/VQWU8E4Tl",
      "include_colab_link": true
    },
    "kernelspec": {
      "name": "python3",
      "display_name": "Python 3"
    },
    "language_info": {
      "name": "python"
    }
  },
  "cells": [
    {
      "cell_type": "markdown",
      "metadata": {
        "id": "view-in-github",
        "colab_type": "text"
      },
      "source": [
        "<a href=\"https://colab.research.google.com/github/Howlbeeb/ML-Projects/blob/master/nn_LinearLayer_practice.ipynb\" target=\"_parent\"><img src=\"https://colab.research.google.com/assets/colab-badge.svg\" alt=\"Open In Colab\"/></a>"
      ]
    },
    {
      "cell_type": "code",
      "execution_count": 1,
      "metadata": {
        "id": "dygqmPzfPp6H"
      },
      "outputs": [],
      "source": [
        "import torch\n",
        "from torch import nn\n",
        "import matplotlib.pyplot as plt"
      ]
    },
    {
      "cell_type": "code",
      "source": [
        "# Device agnostic\n",
        "\n",
        "device = 'cuda' if torch.cuda.is_available() else 'cpu'\n",
        "\n",
        "print(f\"Device: {device}\")"
      ],
      "metadata": {
        "colab": {
          "base_uri": "https://localhost:8080/"
        },
        "id": "S7r1bSNLQe28",
        "outputId": "73667b3e-1928-4a88-badd-1806d5f8aa10"
      },
      "execution_count": 2,
      "outputs": [
        {
          "output_type": "stream",
          "name": "stdout",
          "text": [
            "Device: cpu\n"
          ]
        }
      ]
    },
    {
      "cell_type": "code",
      "source": [
        "weight = 0.3\n",
        "bias = 0.9\n",
        "\n",
        "start =0\n",
        "end=1\n",
        "step=0.02\n",
        "\n",
        "X=torch.arange(start,end,step).unsqueeze(dim=1)\n",
        "y = weight * X + bias\n",
        "\n",
        "X[:5],y[:5]"
      ],
      "metadata": {
        "colab": {
          "base_uri": "https://localhost:8080/"
        },
        "id": "9aL4M-oaRknD",
        "outputId": "9576debd-bebc-4b51-95ba-719dc2efc155"
      },
      "execution_count": 3,
      "outputs": [
        {
          "output_type": "execute_result",
          "data": {
            "text/plain": [
              "(tensor([[0.0000],\n",
              "         [0.0200],\n",
              "         [0.0400],\n",
              "         [0.0600],\n",
              "         [0.0800]]),\n",
              " tensor([[0.9000],\n",
              "         [0.9060],\n",
              "         [0.9120],\n",
              "         [0.9180],\n",
              "         [0.9240]]))"
            ]
          },
          "metadata": {},
          "execution_count": 3
        }
      ]
    },
    {
      "cell_type": "code",
      "source": [
        "train_split = int(0.8 *len(X))\n",
        "\n",
        "X_train,y_train = X[:train_split],y[:train_split]\n",
        "X_test,y_test = X[train_split:],y[train_split:]\n"
      ],
      "metadata": {
        "id": "HQD8dM8cXeCY"
      },
      "execution_count": 4,
      "outputs": []
    },
    {
      "cell_type": "code",
      "source": [
        "def plot_predictions(X_test=X_test,X_train=X_train,y_test=y_test,y_train=y_train, predictions=None):\n",
        "  plt.figure(figsize=(10,7))\n",
        "  plt.scatter(X_train,y_train,c='b',s=4,label='Training Data')\n",
        "  plt.scatter(X_test,y_test,c='g',s=4,label='Testing Data')\n",
        "\n",
        "  if predictions is not None:\n",
        "    plt.scatter(X_test,predictions,c='r',s=4,label='Predictions')\n",
        "  plt.legend(prop={\"size\":14})\n"
      ],
      "metadata": {
        "id": "osaiJzReY7U4"
      },
      "execution_count": 5,
      "outputs": []
    },
    {
      "cell_type": "code",
      "source": [
        "plot_predictions()"
      ],
      "metadata": {
        "colab": {
          "base_uri": "https://localhost:8080/"
        },
        "id": "en0tzoMDZpY9",
        "outputId": "389df2c7-5472-4888-9e94-881ea66a8c40"
      },
      "execution_count": 6,
      "outputs": [
        {
          "output_type": "display_data",
          "data": {
            "text/plain": [
              "<Figure size 1000x700 with 1 Axes>"
            ],
            "image/png": "[encoded data removed]"
          },
          "metadata": {}
        }
      ]
    },
    {
      "cell_type": "code",
      "source": [
        "class linearmodel(nn.Module):\n",
        "  def __init__(self):\n",
        "    super().__init__()\n",
        "    self.linearlayer = nn.Linear(in_features=1,out_features=1)\n",
        "  def forward(self,x:torch.tensor)->torch.tensor:\n",
        "    return self.linearlayer(x)\n",
        "\n",
        "torch.manual_seed(42)\n",
        "model = linearmodel()"
      ],
      "metadata": {
        "id": "DYJ-cFC4fo8j"
      },
      "execution_count": 7,
      "outputs": []
    },
    {
      "cell_type": "code",
      "source": [
        "model.state_dict()"
      ],
      "metadata": {
        "colab": {
          "base_uri": "https://localhost:8080/"
        },
        "id": "RUsEIQn_mpu5",
        "outputId": "6ad95d2e-6d8a-46f8-8af0-66332998cbd9"
      },
      "execution_count": 8,
      "outputs": [
        {
          "output_type": "execute_result",
          "data": {
            "text/plain": [
              "OrderedDict([('linearlayer.weight', tensor([[0.7645]])),\n",
              "             ('linearlayer.bias', tensor([0.8300]))])"
            ]
          },
          "metadata": {},
          "execution_count": 8
        }
      ]
    },
    {
      "cell_type": "code",
      "source": [
        "loss_fn = nn.L1Loss()\n",
        "optimizer = torch.optim.SGD(params=model.parameters(),lr=0.01)"
      ],
      "metadata": {
        "id": "VnqTZemEpCqJ"
      },
      "execution_count": 9,
      "outputs": []
    },
    {
      "cell_type": "code",
      "source": [
        "epochs = 300\n",
        "for epoch in range(epochs):\n",
        "  y_preds = model(X_train)\n",
        "  loss=loss_fn(y_preds,y_train)\n",
        "  optimizer.zero_grad()\n",
        "  loss.backward()\n",
        "  optimizer.step()\n",
        "\n",
        "  # Testing\n",
        "  model.eval()\n",
        "  with torch.inference_mode():\n",
        "    test_pred = model(X_test)\n",
        "  test_loss = loss_fn(test_pred,y_test)\n",
        "\n",
        "  if epoch%20==0:\n",
        "    print(f\"Epoch:{epoch}|Loss:{loss},Test Loss:{test_loss}\")\n"
      ],
      "metadata": {
        "id": "TVqjfbA4sL7s",
        "colab": {
          "base_uri": "https://localhost:8080/"
        },
        "outputId": "4e90bda8-3fc5-4e96-c259-d345f53ceb80"
      },
      "execution_count": 10,
      "outputs": [
        {
          "output_type": "stream",
          "name": "stdout",
          "text": [
            "Epoch:0|Loss:0.12616769969463348,Test Loss:0.33422544598579407\n",
            "Epoch:20|Loss:0.08189655840396881,Test Loss:0.21857480704784393\n",
            "Epoch:40|Loss:0.07218800485134125,Test Loss:0.17499032616615295\n",
            "Epoch:60|Loss:0.06520797312259674,Test Loss:0.15295077860355377\n",
            "Epoch:80|Loss:0.05831370875239372,Test Loss:0.1357191950082779\n",
            "Epoch:100|Loss:0.051440197974443436,Test Loss:0.11986131966114044\n",
            "Epoch:120|Loss:0.04457508772611618,Test Loss:0.10331656038761139\n",
            "Epoch:140|Loss:0.03770974278450012,Test Loss:0.08745871484279633\n",
            "Epoch:160|Loss:0.03083621896803379,Test Loss:0.07160083949565887\n",
            "Epoch:180|Loss:0.02396780252456665,Test Loss:0.055056132376194\n",
            "Epoch:200|Loss:0.01710296794772148,Test Loss:0.03919823095202446\n",
            "Epoch:220|Loss:0.010232259519398212,Test Loss:0.023340392857789993\n",
            "Epoch:240|Loss:0.003360512899234891,Test Loss:0.006795656867325306\n",
            "Epoch:260|Loss:0.007012799382209778,Test Loss:0.003249275730922818\n",
            "Epoch:280|Loss:0.007012799382209778,Test Loss:0.003249275730922818\n"
          ]
        }
      ]
    },
    {
      "cell_type": "code",
      "source": [
        "model.eval()\n",
        "with torch.inference_mode():\n",
        "  y_preds = model(X_test)\n",
        "\n",
        "y_preds"
      ],
      "metadata": {
        "colab": {
          "base_uri": "https://localhost:8080/"
        },
        "id": "k_mcQzCmBhVW",
        "outputId": "48a2b994-aa04-48cf-9ae6-d0ac30e3c19e"
      },
      "execution_count": 13,
      "outputs": [
        {
          "output_type": "execute_result",
          "data": {
            "text/plain": [
              "tensor([[1.1496],\n",
              "        [1.1558],\n",
              "        [1.1619],\n",
              "        [1.1680],\n",
              "        [1.1742],\n",
              "        [1.1803],\n",
              "        [1.1864],\n",
              "        [1.1925],\n",
              "        [1.1987],\n",
              "        [1.2048]])"
            ]
          },
          "metadata": {},
          "execution_count": 13
        }
      ]
    },
    {
      "cell_type": "code",
      "source": [
        "plot_predictions(predictions = y_preds)"
      ],
      "metadata": {
        "colab": {
          "base_uri": "https://localhost:8080/"
        },
        "id": "wbz3pBAjFT4R",
        "outputId": "b0726601-c294-4198-bc6b-3531d56cc359"
      },
      "execution_count": 12,
      "outputs": [
        {
          "output_type": "display_data",
          "data": {
            "text/plain": [
              "<Figure size 1000x700 with 1 Axes>"
            ],
            "image/png": "[encoded data removed]"
          },
          "metadata": {}
        }
      ]
    },
    {
      "cell_type": "code",
      "source": [
        "from pathlib import Path\n",
        "MODEL_PATH = Path('models')\n",
        "MODEL_PATH.mkdir(parents=True,exist_ok=True)\n",
        "\n",
        "MODEL_NAME = 'model.pt'\n",
        "MODEL_SAVE_PATH = MODEL_PATH/MODEL_NAME\n",
        "\n",
        "torch.save(obj = model.state_dict(),f=MODEL_SAVE_PATH)"
      ],
      "metadata": {
        "id": "5VF8NdIoFauN"
      },
      "execution_count": 14,
      "outputs": []
    },
    {
      "cell_type": "code",
      "source": [
        "model_1 = linearmodel()\n",
        "model_1.load_state_dict(torch.load(f=MODEL_SAVE_PATH))"
      ],
      "metadata": {
        "colab": {
          "base_uri": "https://localhost:8080/"
        },
        "id": "PAMs77ISYveP",
        "outputId": "9d6551e0-aa40-46b7-e538-4a2ae8f0d347"
      },
      "execution_count": 15,
      "outputs": [
        {
          "output_type": "stream",
          "name": "stderr",
          "text": [
            "<ipython-input-15-b76b34e25d0c>:2: FutureWarning: You are using `torch.load` with `weights_only=False` (the current default value), which uses the default pickle module implicitly. It is possible to construct malicious pickle data which will execute arbitrary code during unpickling (See https://github.com/pytorch/pytorch/blob/main/SECURITY.md#untrusted-models for more details). In a future release, the default value for `weights_only` will be flipped to `True`. This limits the functions that could be executed during unpickling. Arbitrary objects will no longer be allowed to be loaded via this mode unless they are explicitly allowlisted by the user via `torch.serialization.add_safe_globals`. We recommend you start setting `weights_only=True` for any use case where you don't have full control of the loaded file. Please open an issue on GitHub for any issues related to this experimental feature.\n",
            "  model_1.load_state_dict(torch.load(f=MODEL_SAVE_PATH))\n"
          ]
        },
        {
          "output_type": "execute_result",
          "data": {
            "text/plain": [
              "<All keys matched successfully>"
            ]
          },
          "metadata": {},
          "execution_count": 15
        }
      ]
    },
    {
      "cell_type": "code",
      "source": [
        "model_1.state_dict(),model.state_dict()"
      ],
      "metadata": {
        "colab": {
          "base_uri": "https://localhost:8080/"
        },
        "id": "p4B0wpsGZ6PQ",
        "outputId": "848239b4-e6f8-4aa4-bd27-51848dd720d6"
      },
      "execution_count": 16,
      "outputs": [
        {
          "output_type": "execute_result",
          "data": {
            "text/plain": [
              "(OrderedDict([('linearlayer.weight', tensor([[0.3064]])),\n",
              "              ('linearlayer.bias', tensor([0.9045]))]),\n",
              " OrderedDict([('linearlayer.weight', tensor([[0.3064]])),\n",
              "              ('linearlayer.bias', tensor([0.9045]))]))"
            ]
          },
          "metadata": {},
          "execution_count": 16
        }
      ]
    },
    {
      "cell_type": "code",
      "source": [
        "model_1.eval()\n",
        "\n",
        "with torch.inference_mode():\n",
        "  y_preds1 = model_1(X_test)"
      ],
      "metadata": {
        "id": "2fNsnC5oaAjo"
      },
      "execution_count": 18,
      "outputs": []
    },
    {
      "cell_type": "code",
      "source": [
        "y_preds==y_preds1"
      ],
      "metadata": {
        "colab": {
          "base_uri": "https://localhost:8080/"
        },
        "id": "l9FwUnAYacu3",
        "outputId": "f3c41566-058b-492e-f81a-30295a686cae"
      },
      "execution_count": 19,
      "outputs": [
        {
          "output_type": "execute_result",
          "data": {
            "text/plain": [
              "tensor([[True],\n",
              "        [True],\n",
              "        [True],\n",
              "        [True],\n",
              "        [True],\n",
              "        [True],\n",
              "        [True],\n",
              "        [True],\n",
              "        [True],\n",
              "        [True]])"
            ]
          },
          "metadata": {},
          "execution_count": 19
        }
      ]
    },
    {
      "cell_type": "code",
      "source": [],
      "metadata": {
        "id": "uCt5OwNDax72"
      },
      "execution_count": null,
      "outputs": []
    }
  ]
}